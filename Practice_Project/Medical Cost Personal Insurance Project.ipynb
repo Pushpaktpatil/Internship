{
 "cells": [
  {
   "cell_type": "code",
   "execution_count": null,
   "id": "2b4a360e",
   "metadata": {},
   "outputs": [],
   "source": []
  },
  {
   "cell_type": "code",
   "execution_count": null,
   "id": "8f5f9f38",
   "metadata": {},
   "outputs": [],
   "source": []
  },
  {
   "cell_type": "code",
   "execution_count": 1,
   "id": "0c289c5b",
   "metadata": {},
   "outputs": [],
   "source": [
    "#lets import necessary library\n",
    "\n",
    "\n",
    "import pandas as pd \n",
    "import numpy as np\n",
    "from sklearn.preprocessing import StandardScaler\n",
    "from sklearn.linear_model import LinearRegression\n",
    "from sklearn.model_selection import train_test_split\n",
    "#import statsmodel.api as sm\n",
    "import matplotlib.pyplot as plt\n",
    "import seaborn as sns\n",
    "\n",
    "import warnings\n",
    "warnings.filterwarnings('ignore')"
   ]
  },
  {
   "cell_type": "code",
   "execution_count": 2,
   "id": "7f17c878",
   "metadata": {},
   "outputs": [
    {
     "data": {
      "text/html": [
       "<div>\n",
       "<style scoped>\n",
       "    .dataframe tbody tr th:only-of-type {\n",
       "        vertical-align: middle;\n",
       "    }\n",
       "\n",
       "    .dataframe tbody tr th {\n",
       "        vertical-align: top;\n",
       "    }\n",
       "\n",
       "    .dataframe thead th {\n",
       "        text-align: right;\n",
       "    }\n",
       "</style>\n",
       "<table border=\"1\" class=\"dataframe\">\n",
       "  <thead>\n",
       "    <tr style=\"text-align: right;\">\n",
       "      <th></th>\n",
       "      <th>age</th>\n",
       "      <th>sex</th>\n",
       "      <th>bmi</th>\n",
       "      <th>children</th>\n",
       "      <th>smoker</th>\n",
       "      <th>region</th>\n",
       "      <th>charges</th>\n",
       "    </tr>\n",
       "  </thead>\n",
       "  <tbody>\n",
       "    <tr>\n",
       "      <th>0</th>\n",
       "      <td>19</td>\n",
       "      <td>female</td>\n",
       "      <td>27.900</td>\n",
       "      <td>0</td>\n",
       "      <td>yes</td>\n",
       "      <td>southwest</td>\n",
       "      <td>16884.92400</td>\n",
       "    </tr>\n",
       "    <tr>\n",
       "      <th>1</th>\n",
       "      <td>18</td>\n",
       "      <td>male</td>\n",
       "      <td>33.770</td>\n",
       "      <td>1</td>\n",
       "      <td>no</td>\n",
       "      <td>southeast</td>\n",
       "      <td>1725.55230</td>\n",
       "    </tr>\n",
       "    <tr>\n",
       "      <th>2</th>\n",
       "      <td>28</td>\n",
       "      <td>male</td>\n",
       "      <td>33.000</td>\n",
       "      <td>3</td>\n",
       "      <td>no</td>\n",
       "      <td>southeast</td>\n",
       "      <td>4449.46200</td>\n",
       "    </tr>\n",
       "    <tr>\n",
       "      <th>3</th>\n",
       "      <td>33</td>\n",
       "      <td>male</td>\n",
       "      <td>22.705</td>\n",
       "      <td>0</td>\n",
       "      <td>no</td>\n",
       "      <td>northwest</td>\n",
       "      <td>21984.47061</td>\n",
       "    </tr>\n",
       "    <tr>\n",
       "      <th>4</th>\n",
       "      <td>32</td>\n",
       "      <td>male</td>\n",
       "      <td>28.880</td>\n",
       "      <td>0</td>\n",
       "      <td>no</td>\n",
       "      <td>northwest</td>\n",
       "      <td>3866.85520</td>\n",
       "    </tr>\n",
       "  </tbody>\n",
       "</table>\n",
       "</div>"
      ],
      "text/plain": [
       "   age     sex     bmi  children smoker     region      charges\n",
       "0   19  female  27.900         0    yes  southwest  16884.92400\n",
       "1   18    male  33.770         1     no  southeast   1725.55230\n",
       "2   28    male  33.000         3     no  southeast   4449.46200\n",
       "3   33    male  22.705         0     no  northwest  21984.47061\n",
       "4   32    male  28.880         0     no  northwest   3866.85520"
      ]
     },
     "execution_count": 2,
     "metadata": {},
     "output_type": "execute_result"
    }
   ],
   "source": [
    "df = pd.read_csv('https://raw.githubusercontent.com/dsrscientist/dataset4/main/medical_cost_insurance.csv')\n",
    "df.head()"
   ]
  },
  {
   "cell_type": "code",
   "execution_count": 3,
   "id": "b82b4b23",
   "metadata": {},
   "outputs": [
    {
     "data": {
      "text/plain": [
       "(1338, 7)"
      ]
     },
     "execution_count": 3,
     "metadata": {},
     "output_type": "execute_result"
    }
   ],
   "source": [
    "#checking for the count of rows and columns \n",
    "df.shape"
   ]
  },
  {
   "cell_type": "code",
   "execution_count": 4,
   "id": "c37d1c74",
   "metadata": {},
   "outputs": [
    {
     "name": "stdout",
     "output_type": "stream",
     "text": [
      "<class 'pandas.core.frame.DataFrame'>\n",
      "RangeIndex: 1338 entries, 0 to 1337\n",
      "Data columns (total 7 columns):\n",
      " #   Column    Non-Null Count  Dtype  \n",
      "---  ------    --------------  -----  \n",
      " 0   age       1338 non-null   int64  \n",
      " 1   sex       1338 non-null   object \n",
      " 2   bmi       1338 non-null   float64\n",
      " 3   children  1338 non-null   int64  \n",
      " 4   smoker    1338 non-null   object \n",
      " 5   region    1338 non-null   object \n",
      " 6   charges   1338 non-null   float64\n",
      "dtypes: float64(2), int64(2), object(3)\n",
      "memory usage: 73.3+ KB\n"
     ]
    }
   ],
   "source": [
    "#getting some information about the dataset\n",
    "df.info()"
   ]
  },
  {
   "cell_type": "code",
   "execution_count": 5,
   "id": "e3fb74de",
   "metadata": {},
   "outputs": [
    {
     "data": {
      "text/plain": [
       "age         0\n",
       "sex         0\n",
       "bmi         0\n",
       "children    0\n",
       "smoker      0\n",
       "region      0\n",
       "charges     0\n",
       "dtype: int64"
      ]
     },
     "execution_count": 5,
     "metadata": {},
     "output_type": "execute_result"
    }
   ],
   "source": [
    "#checking for null values in the dataframe\n",
    "df.isnull().sum()"
   ]
  },
  {
   "cell_type": "code",
   "execution_count": 6,
   "id": "1c1c7665",
   "metadata": {},
   "outputs": [
    {
     "data": {
      "text/plain": [
       "False    1337\n",
       "True        1\n",
       "dtype: int64"
      ]
     },
     "execution_count": 6,
     "metadata": {},
     "output_type": "execute_result"
    }
   ],
   "source": [
    "#Checking for the duplicate values\n",
    "df.duplicated(keep='last').value_counts()"
   ]
  },
  {
   "cell_type": "code",
   "execution_count": 7,
   "id": "1af23929",
   "metadata": {},
   "outputs": [],
   "source": [
    "#dropping the duplicated value\n",
    "df.drop_duplicates(keep=False, inplace=True)"
   ]
  },
  {
   "cell_type": "code",
   "execution_count": 8,
   "id": "88c5631b",
   "metadata": {},
   "outputs": [
    {
     "data": {
      "text/plain": [
       "(1336, 7)"
      ]
     },
     "execution_count": 8,
     "metadata": {},
     "output_type": "execute_result"
    }
   ],
   "source": [
    "#Rechecking for the drop duplicate\n",
    "df.shape"
   ]
  },
  {
   "cell_type": "markdown",
   "id": "4d846418",
   "metadata": {},
   "source": [
    "# Data Analysis"
   ]
  },
  {
   "cell_type": "code",
   "execution_count": 9,
   "id": "2b9d3e1e",
   "metadata": {},
   "outputs": [
    {
     "data": {
      "text/html": [
       "<div>\n",
       "<style scoped>\n",
       "    .dataframe tbody tr th:only-of-type {\n",
       "        vertical-align: middle;\n",
       "    }\n",
       "\n",
       "    .dataframe tbody tr th {\n",
       "        vertical-align: top;\n",
       "    }\n",
       "\n",
       "    .dataframe thead th {\n",
       "        text-align: right;\n",
       "    }\n",
       "</style>\n",
       "<table border=\"1\" class=\"dataframe\">\n",
       "  <thead>\n",
       "    <tr style=\"text-align: right;\">\n",
       "      <th></th>\n",
       "      <th>age</th>\n",
       "      <th>bmi</th>\n",
       "      <th>children</th>\n",
       "      <th>charges</th>\n",
       "    </tr>\n",
       "  </thead>\n",
       "  <tbody>\n",
       "    <tr>\n",
       "      <th>count</th>\n",
       "      <td>1336.000000</td>\n",
       "      <td>1336.000000</td>\n",
       "      <td>1336.000000</td>\n",
       "      <td>1336.000000</td>\n",
       "    </tr>\n",
       "    <tr>\n",
       "      <th>mean</th>\n",
       "      <td>39.237275</td>\n",
       "      <td>30.663507</td>\n",
       "      <td>1.096557</td>\n",
       "      <td>13287.833731</td>\n",
       "    </tr>\n",
       "    <tr>\n",
       "      <th>std</th>\n",
       "      <td>14.038678</td>\n",
       "      <td>6.102752</td>\n",
       "      <td>1.205650</td>\n",
       "      <td>12110.702320</td>\n",
       "    </tr>\n",
       "    <tr>\n",
       "      <th>min</th>\n",
       "      <td>18.000000</td>\n",
       "      <td>15.960000</td>\n",
       "      <td>0.000000</td>\n",
       "      <td>1121.873900</td>\n",
       "    </tr>\n",
       "    <tr>\n",
       "      <th>25%</th>\n",
       "      <td>27.000000</td>\n",
       "      <td>26.272500</td>\n",
       "      <td>0.000000</td>\n",
       "      <td>4746.875675</td>\n",
       "    </tr>\n",
       "    <tr>\n",
       "      <th>50%</th>\n",
       "      <td>39.000000</td>\n",
       "      <td>30.380000</td>\n",
       "      <td>1.000000</td>\n",
       "      <td>9388.753650</td>\n",
       "    </tr>\n",
       "    <tr>\n",
       "      <th>75%</th>\n",
       "      <td>51.000000</td>\n",
       "      <td>34.700000</td>\n",
       "      <td>2.000000</td>\n",
       "      <td>16687.364100</td>\n",
       "    </tr>\n",
       "    <tr>\n",
       "      <th>max</th>\n",
       "      <td>64.000000</td>\n",
       "      <td>53.130000</td>\n",
       "      <td>5.000000</td>\n",
       "      <td>63770.428010</td>\n",
       "    </tr>\n",
       "  </tbody>\n",
       "</table>\n",
       "</div>"
      ],
      "text/plain": [
       "               age          bmi     children       charges\n",
       "count  1336.000000  1336.000000  1336.000000   1336.000000\n",
       "mean     39.237275    30.663507     1.096557  13287.833731\n",
       "std      14.038678     6.102752     1.205650  12110.702320\n",
       "min      18.000000    15.960000     0.000000   1121.873900\n",
       "25%      27.000000    26.272500     0.000000   4746.875675\n",
       "50%      39.000000    30.380000     1.000000   9388.753650\n",
       "75%      51.000000    34.700000     2.000000  16687.364100\n",
       "max      64.000000    53.130000     5.000000  63770.428010"
      ]
     },
     "execution_count": 9,
     "metadata": {},
     "output_type": "execute_result"
    }
   ],
   "source": [
    "#statistical measures for the dataset\n",
    "df.describe()"
   ]
  },
  {
   "cell_type": "code",
   "execution_count": 10,
   "id": "609d1107",
   "metadata": {},
   "outputs": [],
   "source": [
    "#encoding sex column\n",
    "df.replace({'sex':{'male':0, 'female':1}}, inplace=True)\n",
    "\n",
    "#encoding smoker column\n",
    "df.replace({'smoker':{'yes':0, 'no':1}}, inplace=True)\n",
    "\n",
    "#encoding region column\n",
    "df.replace({'region':{'southeast':0, 'southwest':1, 'northeast': 2, 'northwest':3}}, inplace=True)"
   ]
  },
  {
   "cell_type": "code",
   "execution_count": 11,
   "id": "9a891cdc",
   "metadata": {},
   "outputs": [
    {
     "data": {
      "image/png": "[encoded data removed]",
      "text/plain": [
       "<Figure size 1440x1080 with 7 Axes>"
      ]
     },
     "metadata": {},
     "output_type": "display_data"
    }
   ],
   "source": [
    "plt.figure(figsize=(20,15),facecolor='red')\n",
    "plotnumber=1\n",
    "\n",
    "for column in df:\n",
    "    if plotnumber<=8:\n",
    "        ax=plt.subplot(2,4,plotnumber)\n",
    "        sns.distplot(df[column])\n",
    "        plt.xlabel(column,fontsize=20)\n",
    "    plotnumber+=1\n",
    "plt.tight_layout()"
   ]
  },
  {
   "cell_type": "code",
   "execution_count": 12,
   "id": "3d1d5abb",
   "metadata": {},
   "outputs": [],
   "source": [
    "X = df.drop(columns='charges', axis=1)\n",
    "y = df['charges']"
   ]
  },
  {
   "cell_type": "code",
   "execution_count": 13,
   "id": "0378d69c",
   "metadata": {},
   "outputs": [
    {
     "data": {
      "text/plain": [
       "0       16884.92400\n",
       "1        1725.55230\n",
       "2        4449.46200\n",
       "3       21984.47061\n",
       "4        3866.85520\n",
       "           ...     \n",
       "1333    10600.54830\n",
       "1334     2205.98080\n",
       "1335     1629.83350\n",
       "1336     2007.94500\n",
       "1337    29141.36030\n",
       "Name: charges, Length: 1336, dtype: float64"
      ]
     },
     "execution_count": 13,
     "metadata": {},
     "output_type": "execute_result"
    }
   ],
   "source": [
    "y"
   ]
  },
  {
   "cell_type": "code",
   "execution_count": 14,
   "id": "c29cb21c",
   "metadata": {},
   "outputs": [
    {
     "data": {
      "text/html": [
       "<div>\n",
       "<style scoped>\n",
       "    .dataframe tbody tr th:only-of-type {\n",
       "        vertical-align: middle;\n",
       "    }\n",
       "\n",
       "    .dataframe tbody tr th {\n",
       "        vertical-align: top;\n",
       "    }\n",
       "\n",
       "    .dataframe thead th {\n",
       "        text-align: right;\n",
       "    }\n",
       "</style>\n",
       "<table border=\"1\" class=\"dataframe\">\n",
       "  <thead>\n",
       "    <tr style=\"text-align: right;\">\n",
       "      <th></th>\n",
       "      <th>age</th>\n",
       "      <th>sex</th>\n",
       "      <th>bmi</th>\n",
       "      <th>children</th>\n",
       "      <th>smoker</th>\n",
       "      <th>region</th>\n",
       "    </tr>\n",
       "  </thead>\n",
       "  <tbody>\n",
       "    <tr>\n",
       "      <th>0</th>\n",
       "      <td>19</td>\n",
       "      <td>1</td>\n",
       "      <td>27.900</td>\n",
       "      <td>0</td>\n",
       "      <td>0</td>\n",
       "      <td>1</td>\n",
       "    </tr>\n",
       "    <tr>\n",
       "      <th>1</th>\n",
       "      <td>18</td>\n",
       "      <td>0</td>\n",
       "      <td>33.770</td>\n",
       "      <td>1</td>\n",
       "      <td>1</td>\n",
       "      <td>0</td>\n",
       "    </tr>\n",
       "    <tr>\n",
       "      <th>2</th>\n",
       "      <td>28</td>\n",
       "      <td>0</td>\n",
       "      <td>33.000</td>\n",
       "      <td>3</td>\n",
       "      <td>1</td>\n",
       "      <td>0</td>\n",
       "    </tr>\n",
       "    <tr>\n",
       "      <th>3</th>\n",
       "      <td>33</td>\n",
       "      <td>0</td>\n",
       "      <td>22.705</td>\n",
       "      <td>0</td>\n",
       "      <td>1</td>\n",
       "      <td>3</td>\n",
       "    </tr>\n",
       "    <tr>\n",
       "      <th>4</th>\n",
       "      <td>32</td>\n",
       "      <td>0</td>\n",
       "      <td>28.880</td>\n",
       "      <td>0</td>\n",
       "      <td>1</td>\n",
       "      <td>3</td>\n",
       "    </tr>\n",
       "    <tr>\n",
       "      <th>...</th>\n",
       "      <td>...</td>\n",
       "      <td>...</td>\n",
       "      <td>...</td>\n",
       "      <td>...</td>\n",
       "      <td>...</td>\n",
       "      <td>...</td>\n",
       "    </tr>\n",
       "    <tr>\n",
       "      <th>1333</th>\n",
       "      <td>50</td>\n",
       "      <td>0</td>\n",
       "      <td>30.970</td>\n",
       "      <td>3</td>\n",
       "      <td>1</td>\n",
       "      <td>3</td>\n",
       "    </tr>\n",
       "    <tr>\n",
       "      <th>1334</th>\n",
       "      <td>18</td>\n",
       "      <td>1</td>\n",
       "      <td>31.920</td>\n",
       "      <td>0</td>\n",
       "      <td>1</td>\n",
       "      <td>2</td>\n",
       "    </tr>\n",
       "    <tr>\n",
       "      <th>1335</th>\n",
       "      <td>18</td>\n",
       "      <td>1</td>\n",
       "      <td>36.850</td>\n",
       "      <td>0</td>\n",
       "      <td>1</td>\n",
       "      <td>0</td>\n",
       "    </tr>\n",
       "    <tr>\n",
       "      <th>1336</th>\n",
       "      <td>21</td>\n",
       "      <td>1</td>\n",
       "      <td>25.800</td>\n",
       "      <td>0</td>\n",
       "      <td>1</td>\n",
       "      <td>1</td>\n",
       "    </tr>\n",
       "    <tr>\n",
       "      <th>1337</th>\n",
       "      <td>61</td>\n",
       "      <td>1</td>\n",
       "      <td>29.070</td>\n",
       "      <td>0</td>\n",
       "      <td>0</td>\n",
       "      <td>3</td>\n",
       "    </tr>\n",
       "  </tbody>\n",
       "</table>\n",
       "<p>1336 rows × 6 columns</p>\n",
       "</div>"
      ],
      "text/plain": [
       "      age  sex     bmi  children  smoker  region\n",
       "0      19    1  27.900         0       0       1\n",
       "1      18    0  33.770         1       1       0\n",
       "2      28    0  33.000         3       1       0\n",
       "3      33    0  22.705         0       1       3\n",
       "4      32    0  28.880         0       1       3\n",
       "...   ...  ...     ...       ...     ...     ...\n",
       "1333   50    0  30.970         3       1       3\n",
       "1334   18    1  31.920         0       1       2\n",
       "1335   18    1  36.850         0       1       0\n",
       "1336   21    1  25.800         0       1       1\n",
       "1337   61    1  29.070         0       0       3\n",
       "\n",
       "[1336 rows x 6 columns]"
      ]
     },
     "execution_count": 14,
     "metadata": {},
     "output_type": "execute_result"
    }
   ],
   "source": [
    "X"
   ]
  },
  {
   "cell_type": "code",
   "execution_count": 15,
   "id": "0686b566",
   "metadata": {},
   "outputs": [
    {
     "data": {
      "image/png": "[encoded data removed]",
      "text/plain": [
       "<Figure size 1080x720 with 6 Axes>"
      ]
     },
     "metadata": {},
     "output_type": "display_data"
    }
   ],
   "source": [
    "plt.figure(figsize = (15,10), facecolor='yellow')\n",
    "plotnumber = 1\n",
    "\n",
    "for column in X:\n",
    "    if plotnumber<=8 :\n",
    "        ax = plt.subplot(2,4,plotnumber)\n",
    "        plt.scatter(X[column],y)\n",
    "        plt.xlabel(column,fontsize=10)\n",
    "        plt.ylabel('Chance of Admit',fontsize=10)\n",
    "    plotnumber+=1\n",
    "plt.tight_layout()"
   ]
  },
  {
   "cell_type": "code",
   "execution_count": 16,
   "id": "ffab6690",
   "metadata": {},
   "outputs": [],
   "source": [
    "#data scaling. Formula z=(x-mean)/std\n",
    "scaler = StandardScaler()\n",
    "X_scaled = scaler.fit_transform(X)"
   ]
  },
  {
   "cell_type": "code",
   "execution_count": 17,
   "id": "981be7c4",
   "metadata": {},
   "outputs": [
    {
     "data": {
      "text/plain": [
       "array([[-1.44207691,  1.00902274, -0.45299913, -0.90985593, -1.96873371,\n",
       "        -0.40150557],\n",
       "       [-1.51333536, -0.99105794,  0.50922212, -0.08011701,  0.50794071,\n",
       "        -1.28667295],\n",
       "       [-0.80075085, -0.99105794,  0.38300229,  1.57936084,  0.50794071,\n",
       "        -1.28667295],\n",
       "       ...,\n",
       "       [-1.51333536,  1.00902274,  1.01410141, -0.90985593,  0.50794071,\n",
       "        -1.28667295],\n",
       "       [-1.29956001,  1.00902274, -0.79723501, -0.90985593,  0.50794071,\n",
       "        -0.40150557],\n",
       "       [ 1.55077805,  1.00902274, -0.26121057, -0.90985593, -1.96873371,\n",
       "         1.36882921]])"
      ]
     },
     "execution_count": 17,
     "metadata": {},
     "output_type": "execute_result"
    }
   ],
   "source": [
    "X_scaled"
   ]
  },
  {
   "cell_type": "markdown",
   "id": "9ed3db7c",
   "metadata": {},
   "source": [
    "### Model Instantiating And Training"
   ]
  },
  {
   "cell_type": "code",
   "execution_count": 18,
   "id": "8c5e1930",
   "metadata": {},
   "outputs": [
    {
     "data": {
      "text/plain": [
       "920     13451.12200\n",
       "1315    11272.33139\n",
       "955      3875.73410\n",
       "1238     6985.50695\n",
       "802      2103.08000\n",
       "Name: charges, dtype: float64"
      ]
     },
     "execution_count": 18,
     "metadata": {},
     "output_type": "execute_result"
    }
   ],
   "source": [
    "#split data into train and test. module will be build on training data and tested on the test data.\n",
    "x_train,x_test,y_train,y_test=train_test_split(X_scaled,y,test_size = 0.25,random_state= 348)\n",
    "y_train.head()"
   ]
  },
  {
   "cell_type": "markdown",
   "id": "f9ed5127",
   "metadata": {},
   "source": [
    "### Predict the accurate cost of insurance given feature"
   ]
  },
  {
   "cell_type": "code",
   "execution_count": 19,
   "id": "42568bd7",
   "metadata": {},
   "outputs": [
    {
     "data": {
      "text/plain": [
       "LinearRegression()"
      ]
     },
     "execution_count": 19,
     "metadata": {},
     "output_type": "execute_result"
    }
   ],
   "source": [
    "regression = LinearRegression()\n",
    "regression.fit(x_train,y_train)"
   ]
  },
  {
   "cell_type": "code",
   "execution_count": 20,
   "id": "a8c753b9",
   "metadata": {},
   "outputs": [
    {
     "data": {
      "text/html": [
       "<div>\n",
       "<style scoped>\n",
       "    .dataframe tbody tr th:only-of-type {\n",
       "        vertical-align: middle;\n",
       "    }\n",
       "\n",
       "    .dataframe tbody tr th {\n",
       "        vertical-align: top;\n",
       "    }\n",
       "\n",
       "    .dataframe thead th {\n",
       "        text-align: right;\n",
       "    }\n",
       "</style>\n",
       "<table border=\"1\" class=\"dataframe\">\n",
       "  <thead>\n",
       "    <tr style=\"text-align: right;\">\n",
       "      <th></th>\n",
       "      <th>age</th>\n",
       "      <th>sex</th>\n",
       "      <th>bmi</th>\n",
       "      <th>children</th>\n",
       "      <th>smoker</th>\n",
       "      <th>region</th>\n",
       "      <th>charges</th>\n",
       "    </tr>\n",
       "  </thead>\n",
       "  <tbody>\n",
       "    <tr>\n",
       "      <th>1336</th>\n",
       "      <td>21</td>\n",
       "      <td>1</td>\n",
       "      <td>25.80</td>\n",
       "      <td>0</td>\n",
       "      <td>1</td>\n",
       "      <td>1</td>\n",
       "      <td>2007.9450</td>\n",
       "    </tr>\n",
       "    <tr>\n",
       "      <th>1337</th>\n",
       "      <td>61</td>\n",
       "      <td>1</td>\n",
       "      <td>29.07</td>\n",
       "      <td>0</td>\n",
       "      <td>0</td>\n",
       "      <td>3</td>\n",
       "      <td>29141.3603</td>\n",
       "    </tr>\n",
       "  </tbody>\n",
       "</table>\n",
       "</div>"
      ],
      "text/plain": [
       "      age  sex    bmi  children  smoker  region     charges\n",
       "1336   21    1  25.80         0       1       1   2007.9450\n",
       "1337   61    1  29.07         0       0       3  29141.3603"
      ]
     },
     "execution_count": 20,
     "metadata": {},
     "output_type": "execute_result"
    }
   ],
   "source": [
    "df.tail(2)"
   ]
  },
  {
   "cell_type": "markdown",
   "id": "49fa2c64",
   "metadata": {},
   "source": [
    "### Accuracy of the model (on testing data):"
   ]
  },
  {
   "cell_type": "code",
   "execution_count": 21,
   "id": "26ea6cde",
   "metadata": {},
   "outputs": [
    {
     "name": "stdout",
     "output_type": "stream",
     "text": [
      "Accurate predicted insurance cost : [1662.53329702]\n"
     ]
    }
   ],
   "source": [
    "print('Accurate predicted insurance cost :',regression.predict(scaler.transform([[21,1, 25.80,0,1,1]])))"
   ]
  },
  {
   "cell_type": "code",
   "execution_count": 22,
   "id": "6817907d",
   "metadata": {},
   "outputs": [
    {
     "name": "stdout",
     "output_type": "stream",
     "text": [
      "Accurate predicted insurance cost : [37242.98939074]\n"
     ]
    }
   ],
   "source": [
    "print('Accurate predicted insurance cost :',regression.predict(scaler.transform([[61,1, 29.07,0,0,3]])))"
   ]
  },
  {
   "cell_type": "code",
   "execution_count": 23,
   "id": "704a7dc6",
   "metadata": {},
   "outputs": [
    {
     "name": "stdout",
     "output_type": "stream",
     "text": [
      "Accuracy= 77.49068340834724 %\n"
     ]
    }
   ],
   "source": [
    "print(\"Accuracy=\",regression.score(x_test,y_test)*100,\"%\")"
   ]
  },
  {
   "cell_type": "code",
   "execution_count": null,
   "id": "2595dffa",
   "metadata": {},
   "outputs": [],
   "source": []
  },
  {
   "cell_type": "code",
   "execution_count": 24,
   "id": "6f2bea26",
   "metadata": {},
   "outputs": [],
   "source": [
    "#saving the model tothe local file system\n",
    "import pickle\n",
    "pickle.dump(regression,open('reg_model','wb'))"
   ]
  },
  {
   "cell_type": "code",
   "execution_count": 25,
   "id": "e0348e32",
   "metadata": {},
   "outputs": [
    {
     "data": {
      "text/plain": [
       "array([1662.53329702])"
      ]
     },
     "execution_count": 25,
     "metadata": {},
     "output_type": "execute_result"
    }
   ],
   "source": [
    "loaded_model = pickle.load(open('reg_model','rb'))\n",
    "\n",
    "a = loaded_model.predict(scaler.transform([[21,1, 25.80,0,1,1]]))\n",
    "\n",
    "a"
   ]
  },
  {
   "cell_type": "code",
   "execution_count": 26,
   "id": "36593236",
   "metadata": {},
   "outputs": [
    {
     "data": {
      "text/plain": [
       "array([[-1.29956001,  1.00902274, -0.79723501, -0.90985593,  0.50794071,\n",
       "        -0.40150557]])"
      ]
     },
     "execution_count": 26,
     "metadata": {},
     "output_type": "execute_result"
    }
   ],
   "source": [
    "scaler.transform([[21,1, 25.80,0,1,1]])"
   ]
  },
  {
   "cell_type": "code",
   "execution_count": 27,
   "id": "4372da77",
   "metadata": {},
   "outputs": [
    {
     "data": {
      "text/plain": [
       "0.7404142916617074"
      ]
     },
     "execution_count": 27,
     "metadata": {},
     "output_type": "execute_result"
    }
   ],
   "source": [
    "regression.score(x_train,y_train)"
   ]
  },
  {
   "cell_type": "code",
   "execution_count": 28,
   "id": "caf0c69f",
   "metadata": {},
   "outputs": [],
   "source": [
    "y_pred = regression.predict(x_test)"
   ]
  },
  {
   "cell_type": "code",
   "execution_count": 29,
   "id": "4fff69f7",
   "metadata": {},
   "outputs": [
    {
     "data": {
      "text/plain": [
       "array([ 3.05886959e+04,  2.54806854e+04,  6.63287045e+03,  2.80084496e+04,\n",
       "        1.31557265e+04,  3.55284427e+03,  3.08949067e+04,  3.78333047e+04,\n",
       "        2.86516050e+04,  1.45341057e+04,  3.82243319e+04,  7.44851531e+03,\n",
       "        8.56156270e+03,  5.30465906e+03,  5.92112384e+03,  6.12020560e+03,\n",
       "        7.65841088e+03,  3.31354319e+04,  2.85252900e+04,  9.63823505e+03,\n",
       "        2.43737243e+04,  2.50827716e+04,  1.42978194e+04,  3.53475899e+04,\n",
       "       -1.62561091e+03, -3.74709165e+02,  9.82104723e+03,  5.51179291e+03,\n",
       "        5.66177776e+03,  1.06461923e+04,  1.20332532e+04,  8.32402985e+03,\n",
       "        5.61343617e+03,  9.76829234e+03,  6.11332104e+03,  1.16353395e+04,\n",
       "        1.32215197e+04,  7.34729901e+03, -1.34883770e+03,  1.57452709e+03,\n",
       "        5.47331574e+03,  3.02710809e+04,  3.92709942e+03,  1.27708553e+04,\n",
       "        3.56953363e+04,  4.45383145e+03,  5.14994589e+03,  1.72142029e+04,\n",
       "        6.00751645e+03,  1.63132799e+04,  8.35811591e+03,  8.85386723e+03,\n",
       "        4.39101042e+03,  5.46910414e+03,  7.06484579e+03,  4.70703866e+03,\n",
       "        2.59761639e+04,  1.10309391e+04,  7.55993265e+03,  1.06907746e+04,\n",
       "        3.89242656e+03,  1.14425134e+04,  3.89653351e+04,  2.37249580e+03,\n",
       "        1.53537484e+04,  2.99451635e+03,  9.07471523e+03,  1.29010941e+04,\n",
       "        8.34615381e+03,  7.35473023e+03,  3.45561478e+04,  8.71235605e+03,\n",
       "        2.76336374e+03,  1.05815796e+04,  3.65792482e+04,  9.99500412e+03,\n",
       "        1.17376671e+04,  3.21921643e+04,  9.80804813e+03,  2.92953861e+04,\n",
       "        1.52662676e+04,  1.66694649e+04,  1.33927209e+04,  9.16447612e+02,\n",
       "        3.08632115e+04,  1.11396447e+04,  7.65019652e+03,  3.17824874e+03,\n",
       "        9.06364056e+03,  3.97374623e+04,  3.13789971e+03,  5.02492454e+03,\n",
       "        1.79694513e+04,  1.18096565e+04,  1.25797266e+04,  6.67521431e+03,\n",
       "        2.89338878e+04,  1.19602022e+04,  3.60965791e+03,  7.15559575e+03,\n",
       "        2.85179443e+04,  3.80829987e+03,  7.24524445e+03,  5.84162635e+03,\n",
       "        4.27990180e+03,  7.34343830e+03,  8.87237951e+03,  1.40526348e+04,\n",
       "        3.61354197e+04,  4.08248589e+03,  4.35059969e+03,  1.25265350e+04,\n",
       "        7.73923816e+03,  4.94218163e+03,  2.66430044e+04, -7.93608163e+02,\n",
       "        1.14312863e+04,  1.07248415e+04,  1.03239822e+04,  2.95589465e+04,\n",
       "        3.75790265e+04,  6.19224726e+03,  3.69516431e+04,  7.61558068e+02,\n",
       "        6.64614453e+03,  1.35334773e+04,  2.29553548e+03,  1.26927308e+04,\n",
       "        1.21038386e+04,  3.25376629e+04,  5.88338978e+03,  7.48082792e+03,\n",
       "        3.34313519e+03,  1.37309869e+04,  3.53929722e+04,  3.16613882e+04,\n",
       "        1.24802960e+04,  3.91219061e+04,  1.10825765e+04,  4.18346227e+03,\n",
       "        1.08316513e+04,  1.16040240e+04,  3.08032740e+04,  8.60415446e+03,\n",
       "        5.20192009e+03,  6.57095052e+03,  3.23202216e+04,  8.03550312e+03,\n",
       "        1.18947676e+04,  3.58071154e+04,  1.18643515e+04,  9.60256490e+03,\n",
       "        1.23254880e+04,  3.90435494e+04,  1.11336700e+04,  1.57684897e+04,\n",
       "        1.18275210e+04,  2.52598731e+03,  3.35501901e+04,  1.27108065e+04,\n",
       "        2.42738649e+04,  7.28250380e+03,  2.46551071e+03,  3.76177680e+04,\n",
       "        1.54339584e+04,  1.04928043e+03,  7.52873369e+03,  2.20604051e+03,\n",
       "        1.72992276e+01,  1.49487128e+04,  1.31823180e+04,  1.32814732e+04,\n",
       "        1.29267680e+04,  6.45343446e+03,  1.29023950e+04, -3.40526088e+02,\n",
       "        8.97909959e+03,  1.81569770e+03,  7.66968827e+03,  1.08331560e+04,\n",
       "        2.47427839e+03,  3.98005336e+03,  1.17671941e+04,  1.03406709e+04,\n",
       "        4.01732852e+03,  3.29552460e+04,  9.48844824e+03,  2.88868155e+04,\n",
       "        1.04093861e+04,  4.01058770e+03,  1.04503782e+04,  3.12361328e+03,\n",
       "        1.19547631e+04,  3.89626386e+04,  8.04511323e+03,  2.65838903e+03,\n",
       "        9.83963632e+03,  9.03295691e+03,  6.42820086e+03,  1.14316258e+04,\n",
       "       -9.51028494e+02,  1.44560543e+04,  9.92978806e+03,  6.89580473e+03,\n",
       "        1.23313871e+04,  2.32972084e+03,  9.45792585e+03,  3.42012883e+04,\n",
       "        9.56340333e+03,  5.74011329e+03,  2.65978263e+02,  3.32627276e+04,\n",
       "        1.18236365e+04,  2.94407170e+03,  3.12724987e+03,  3.24847710e+04,\n",
       "        1.14352782e+04,  3.28846817e+04,  7.83071328e+03,  2.66533628e+04,\n",
       "        1.41306852e+04,  1.31826107e+04,  1.19395893e+04,  9.81243497e+03,\n",
       "        1.28460335e+04,  1.03630524e+04,  1.22708019e+04,  1.28381853e+04,\n",
       "        3.15957976e+04,  3.86874714e+04,  6.42364975e+03,  1.11031109e+04,\n",
       "        4.47405662e+03,  8.00951289e+03,  7.05162872e+03,  5.60276014e+03,\n",
       "        5.01150116e+03,  5.45159782e+03,  6.05066084e+03,  3.53657799e+04,\n",
       "        7.81118479e+03,  6.48869030e+03,  3.18730884e+04,  1.14685962e+04,\n",
       "        1.00784782e+04,  1.16650959e+04,  7.00825139e+03,  3.48491686e+04,\n",
       "        3.99707616e+03,  1.31504823e+04,  8.23428719e+02,  3.14445375e+04,\n",
       "        2.89076873e+04,  2.63914127e+04,  9.96963177e+03,  3.92670337e+03,\n",
       "        3.30582197e+03,  4.70661809e+03,  7.71000681e+03,  3.30017554e+04,\n",
       "        3.83843411e+04,  1.47044366e+04,  5.48597720e+03,  1.24448391e+04,\n",
       "        6.47198178e+03,  3.99720103e+04,  2.98479838e+04,  3.19410860e+04,\n",
       "        5.27778355e+02,  8.21229823e+03,  1.19355157e+04,  1.64833054e+04,\n",
       "        3.39663619e+03,  3.85508833e+04,  8.85283678e+03,  3.50984547e+03,\n",
       "        1.43245476e+04,  2.03784299e+03,  4.80959742e+03,  2.44228846e+03,\n",
       "        8.74796335e+03,  1.45188194e+04,  5.33562310e+03,  1.13130548e+04,\n",
       "        2.68392992e+03,  2.63562639e+03,  1.44900366e+04,  2.88519483e+04,\n",
       "        3.36736351e+04,  9.40611566e+03,  6.75349886e+03,  5.62072536e+03,\n",
       "        9.91741168e+03,  1.09426706e+04,  1.15247692e+04,  7.23720989e+03,\n",
       "        1.21385055e+04,  1.35177095e+04,  1.23169110e+04,  5.16199988e+03,\n",
       "        6.63554969e+03,  1.49364594e+04,  9.84730474e+03,  3.34556235e+04,\n",
       "        6.29721911e+03,  1.30853831e+04,  1.32630867e+04,  1.04233853e+04,\n",
       "        1.60464721e+04,  1.65501140e+04,  3.32305434e+03,  1.15980778e+04,\n",
       "        1.09088561e+04,  6.27533322e+03,  3.03703274e+04,  2.29571956e+03,\n",
       "        1.55959250e+04,  1.21795304e+04,  7.27875294e+03,  3.65395827e+03,\n",
       "        1.08959793e+04,  1.18731788e+04,  1.01321568e+04,  6.32768920e+03,\n",
       "        1.31631485e+04,  2.53208914e+04,  9.06475081e+03,  3.17090354e+04,\n",
       "        1.49718398e+04,  1.16591779e+04,  2.66060035e+02,  8.06706594e+03,\n",
       "        1.26162261e+04,  7.82915000e+03])"
      ]
     },
     "execution_count": 29,
     "metadata": {},
     "output_type": "execute_result"
    }
   ],
   "source": [
    "y_pred"
   ]
  },
  {
   "cell_type": "code",
   "execution_count": 30,
   "id": "eb18d17a",
   "metadata": {
    "scrolled": true
   },
   "outputs": [
    {
     "data": {
      "image/png": "[encoded data removed]",
      "text/plain": [
       "<Figure size 432x288 with 1 Axes>"
      ]
     },
     "metadata": {
      "needs_background": "light"
     },
     "output_type": "display_data"
    }
   ],
   "source": [
    "plt.scatter(y_test, y_pred)\n",
    "plt.xlabel('Actual insurance charges')\n",
    "plt.ylabel('Predicted Chance of Admission')\n",
    "plt.title('Actual vs model predicted')\n",
    "plt.show()"
   ]
  },
  {
   "cell_type": "code",
   "execution_count": 31,
   "id": "9d00123f",
   "metadata": {},
   "outputs": [],
   "source": [
    "#Model evaluation\n",
    "from sklearn.metrics import mean_squared_error, mean_absolute_error"
   ]
  },
  {
   "cell_type": "code",
   "execution_count": 32,
   "id": "88bf9a0b",
   "metadata": {},
   "outputs": [],
   "source": [
    "y_pred = regression.predict(x_test)"
   ]
  },
  {
   "cell_type": "code",
   "execution_count": 33,
   "id": "666f9f0f",
   "metadata": {},
   "outputs": [
    {
     "data": {
      "text/plain": [
       "4188.3266871369215"
      ]
     },
     "execution_count": 33,
     "metadata": {},
     "output_type": "execute_result"
    }
   ],
   "source": [
    "mean_absolute_error(y_test,y_pred)"
   ]
  },
  {
   "cell_type": "code",
   "execution_count": 34,
   "id": "f2fb276d",
   "metadata": {},
   "outputs": [
    {
     "data": {
      "text/plain": [
       "35682548.51230941"
      ]
     },
     "execution_count": 34,
     "metadata": {},
     "output_type": "execute_result"
    }
   ],
   "source": [
    "mean_squared_error(y_test,y_pred)"
   ]
  },
  {
   "cell_type": "code",
   "execution_count": 35,
   "id": "4bae92ed",
   "metadata": {},
   "outputs": [
    {
     "data": {
      "text/plain": [
       "5973.487131676891"
      ]
     },
     "execution_count": 35,
     "metadata": {},
     "output_type": "execute_result"
    }
   ],
   "source": [
    "np.sqrt(mean_squared_error(y_test,y_pred))"
   ]
  },
  {
   "cell_type": "markdown",
   "id": "deb56820",
   "metadata": {},
   "source": [
    "### Now we sucessfully created model and our score is great so we check it for overfitting \n",
    "### To check overfitting we have to use regularization technique\n",
    "\n",
    "#### In regularization we have 3 type but we use only 2 \n",
    "\n",
    "\n",
    "\n",
    "### 3 types are 1) LASSO (L1 form)......................2) RIDGE (L2 FORM).............................3) ELASTIONET"
   ]
  },
  {
   "cell_type": "code",
   "execution_count": 36,
   "id": "6e9ae004",
   "metadata": {},
   "outputs": [],
   "source": [
    "#BASICALLY LASSO N RIDGE WILL GIVE YOU BEST LEARNING RATE THAT IS ALPHA SCORE AND TRAIN MODEL ACCORDING TO IT"
   ]
  },
  {
   "cell_type": "code",
   "execution_count": 37,
   "id": "c4854399",
   "metadata": {},
   "outputs": [],
   "source": [
    "from sklearn.linear_model import Ridge, Lasso, RidgeCV, LassoCV "
   ]
  },
  {
   "cell_type": "markdown",
   "id": "314759c9",
   "metadata": {},
   "source": [
    "### Using Lasso Model"
   ]
  },
  {
   "cell_type": "code",
   "execution_count": 38,
   "id": "b9c19a46",
   "metadata": {},
   "outputs": [
    {
     "data": {
      "text/plain": [
       "LassoCV(max_iter=100, normalize=True)"
      ]
     },
     "execution_count": 38,
     "metadata": {},
     "output_type": "execute_result"
    }
   ],
   "source": [
    "lasscv = LassoCV(alphas = None, max_iter = 100, normalize = True)\n",
    "lasscv.fit(x_train,y_train)"
   ]
  },
  {
   "cell_type": "code",
   "execution_count": 39,
   "id": "be078caa",
   "metadata": {},
   "outputs": [
    {
     "data": {
      "text/plain": [
       "2.210210758168331"
      ]
     },
     "execution_count": 39,
     "metadata": {},
     "output_type": "execute_result"
    }
   ],
   "source": [
    "alpha = lasscv.alpha_\n",
    "alpha"
   ]
  },
  {
   "cell_type": "code",
   "execution_count": 40,
   "id": "1a325754",
   "metadata": {},
   "outputs": [
    {
     "data": {
      "text/plain": [
       "Lasso(alpha=2.210210758168331)"
      ]
     },
     "execution_count": 40,
     "metadata": {},
     "output_type": "execute_result"
    }
   ],
   "source": [
    "lasso_reg = Lasso(alpha)\n",
    "lasso_reg.fit(x_train,y_train)"
   ]
  },
  {
   "cell_type": "code",
   "execution_count": 41,
   "id": "1bf31816",
   "metadata": {},
   "outputs": [
    {
     "data": {
      "text/plain": [
       "0.774887118807701"
      ]
     },
     "execution_count": 41,
     "metadata": {},
     "output_type": "execute_result"
    }
   ],
   "source": [
    "# now check r2 score\n",
    "\n",
    "lasso_reg.score(x_test,y_test)"
   ]
  },
  {
   "cell_type": "markdown",
   "id": "85abaa67",
   "metadata": {},
   "source": [
    "### Using Ridge Model"
   ]
  },
  {
   "cell_type": "code",
   "execution_count": 42,
   "id": "584ad799",
   "metadata": {},
   "outputs": [
    {
     "data": {
      "text/plain": [
       "RidgeCV(alphas=array([0.001, 0.011, 0.021, 0.031, 0.041, 0.051, 0.061, 0.071, 0.081,\n",
       "       0.091]),\n",
       "        normalize=True)"
      ]
     },
     "execution_count": 42,
     "metadata": {},
     "output_type": "execute_result"
    }
   ],
   "source": [
    "#Using Ridge Model\n",
    "\n",
    "ridgecv = RidgeCV(alphas = np.arange(0.001,0.1,0.01),normalize = True)\n",
    "ridgecv.fit(x_train,y_train)"
   ]
  },
  {
   "cell_type": "code",
   "execution_count": 43,
   "id": "f31d50ed",
   "metadata": {},
   "outputs": [
    {
     "data": {
      "text/plain": [
       "0.001"
      ]
     },
     "execution_count": 43,
     "metadata": {},
     "output_type": "execute_result"
    }
   ],
   "source": [
    "ridgecv.alpha_"
   ]
  },
  {
   "cell_type": "code",
   "execution_count": 44,
   "id": "74458f19",
   "metadata": {},
   "outputs": [
    {
     "data": {
      "text/plain": [
       "Ridge(alpha=0.001)"
      ]
     },
     "execution_count": 44,
     "metadata": {},
     "output_type": "execute_result"
    }
   ],
   "source": [
    "ridge_model = Ridge(alpha=ridgecv.alpha_)\n",
    "ridge_model.fit(x_train,y_train)"
   ]
  },
  {
   "cell_type": "code",
   "execution_count": 45,
   "id": "548dbf50",
   "metadata": {},
   "outputs": [
    {
     "data": {
      "text/plain": [
       "0.774906768167236"
      ]
     },
     "execution_count": 45,
     "metadata": {},
     "output_type": "execute_result"
    }
   ],
   "source": [
    "# now check r2 score\n",
    "\n",
    "ridge_model.score(x_test,y_test)"
   ]
  },
  {
   "cell_type": "code",
   "execution_count": null,
   "id": "57342056",
   "metadata": {},
   "outputs": [],
   "source": []
  },
  {
   "cell_type": "markdown",
   "id": "ea28a947",
   "metadata": {},
   "source": [
    "### Cross Vaildation"
   ]
  },
  {
   "cell_type": "code",
   "execution_count": 46,
   "id": "472c6ca0",
   "metadata": {},
   "outputs": [],
   "source": [
    "training=regression.score(x_train,y_train)\n",
    "testing=regression.score(x_test,y_test)"
   ]
  },
  {
   "cell_type": "code",
   "execution_count": 47,
   "id": "c3fe5b82",
   "metadata": {},
   "outputs": [
    {
     "data": {
      "text/plain": [
       "0.7404142916617074"
      ]
     },
     "execution_count": 47,
     "metadata": {},
     "output_type": "execute_result"
    }
   ],
   "source": [
    "training"
   ]
  },
  {
   "cell_type": "code",
   "execution_count": 48,
   "id": "902789ff",
   "metadata": {},
   "outputs": [
    {
     "data": {
      "text/plain": [
       "0.7749068340834724"
      ]
     },
     "execution_count": 48,
     "metadata": {},
     "output_type": "execute_result"
    }
   ],
   "source": [
    "testing"
   ]
  },
  {
   "cell_type": "markdown",
   "id": "11e37190",
   "metadata": {},
   "source": [
    "# Thus our final model gives accuracy on the test data is 77.49 %\n",
    "\n",
    " "
   ]
  },
  {
   "cell_type": "code",
   "execution_count": null,
   "id": "e501f34a",
   "metadata": {},
   "outputs": [],
   "source": []
  }
 ],
 "metadata": {
  "kernelspec": {
   "display_name": "Python 3 (ipykernel)",
   "language": "python",
   "name": "python3"
  },
  "language_info": {
   "codemirror_mode": {
    "name": "ipython",
    "version": 3
   },
   "file_extension": ".py",
   "mimetype": "text/x-python",
   "name": "python",
   "nbconvert_exporter": "python",
   "pygments_lexer": "ipython3",
   "version": "3.9.13"
  }
 },
 "nbformat": 4,
 "nbformat_minor": 5
}
